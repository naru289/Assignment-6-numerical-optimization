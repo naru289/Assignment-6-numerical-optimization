{
  "nbformat": 4,
  "nbformat_minor": 0,
  "metadata": {
    "colab": {
      "provenance": [],
      "include_colab_link": true
    },
    "kernelspec": {
      "name": "python3",
      "display_name": "Python 3"
    },
    "language_info": {
      "name": "python"
    }
  },
  "cells": [
    {
      "cell_type": "markdown",
      "metadata": {
        "id": "view-in-github",
        "colab_type": "text"
      },
      "source": [
        "<a href=\"https://colab.research.google.com/github/naru289/Assignment-6-numerical-optimization/blob/main/M1_AST_06_Numerical_Optimization_A.ipynb\" target=\"_parent\"><img src=\"https://colab.research.google.com/assets/colab-badge.svg\" alt=\"Open In Colab\"/></a>"
      ]
    },
    {
      "cell_type": "markdown",
      "metadata": {
        "id": "p4Nwm4FK3wgU"
      },
      "source": [
        "# Advanced Programme in Deep Learning (Foundations and Applications)\n",
        "## A Program by IISc and TalentSprint\n",
        "### Assignment 6: Numerical Optimization"
      ]
    },
    {
      "cell_type": "markdown",
      "metadata": {
        "id": "dHj34EaN5oa5"
      },
      "source": [
        "## Learning Objectives"
      ]
    },
    {
      "cell_type": "markdown",
      "metadata": {
        "id": "-vPeurvKNAEz"
      },
      "source": [
        "At the end of the assignment, you will be able to\n",
        "\n",
        "\n",
        "*   understand Newton-Raphson Method\n",
        "\n",
        "*   understand the Multivariate Newton Optimization Method \n",
        "\n",
        "* understand the steepest descent algorithm with exact line search \n",
        "method\n",
        "\n"
      ]
    },
    {
      "cell_type": "markdown",
      "metadata": {
        "id": "BNLA8HiKxQhc"
      },
      "source": [
        "### Setup Steps:"
      ]
    },
    {
      "cell_type": "code",
      "metadata": {
        "id": "xWMVQWk58aXm"
      },
      "source": [
        "#@title Please enter your registration id to start: { run: \"auto\", display-mode: \"form\" }\n",
        "Id = \"\" #@param {type:\"string\"}"
      ],
      "execution_count": null,
      "outputs": []
    },
    {
      "cell_type": "code",
      "metadata": {
        "id": "cwqosl928dBA"
      },
      "source": [
        "#@title Please enter your password (normally your phone number) to continue: { run: \"auto\", display-mode: \"form\" }\n",
        "password = \"\" #@param {type:\"string\"}"
      ],
      "execution_count": null,
      "outputs": []
    },
    {
      "cell_type": "code",
      "metadata": {
        "cellView": "form",
        "id": "GXbNUL2L6LoU"
      },
      "source": [
        "#@title Run this cell to complete the setup for this Notebook\n",
        "from IPython import get_ipython\n",
        "import warnings\n",
        "warnings.filterwarnings(\"ignore\")\n",
        "\n",
        "ipython = get_ipython()\n",
        "  \n",
        "notebook= \"M1_AST_06_Numerical_Optimization_A\" #name of the notebook\n",
        "\n",
        "def setup():\n",
        "    from IPython.display import HTML, display\n",
        "    display(HTML('<script src=\"https://dashboard.talentsprint.com/aiml/record_ip.html?traineeId={0}&recordId={1}\"></script>'.format(getId(),submission_id)))\n",
        "    print(\"Setup completed successfully\")\n",
        "    return\n",
        "\n",
        "def submit_notebook():\n",
        "    ipython.magic(\"notebook -e \"+ notebook + \".ipynb\")\n",
        "    \n",
        "    import requests, json, base64, datetime\n",
        "\n",
        "    url = \"https://dashboard.talentsprint.com/xp/app/save_notebook_attempts\"\n",
        "    if not submission_id:\n",
        "      data = {\"id\" : getId(), \"notebook\" : notebook, \"mobile\" : getPassword()}\n",
        "      r = requests.post(url, data = data)\n",
        "      r = json.loads(r.text)\n",
        "\n",
        "      if r[\"status\"] == \"Success\":\n",
        "          return r[\"record_id\"]\n",
        "      elif \"err\" in r:        \n",
        "        print(r[\"err\"])\n",
        "        return None        \n",
        "      else:\n",
        "        print (\"Something is wrong, the notebook will not be submitted for grading\")\n",
        "        return None\n",
        "    \n",
        "    elif getAnswer1() and getAnswer2() and getComplexity() and getAdditional() and getConcepts() and getComments() and getMentorSupport():\n",
        "      f = open(notebook + \".ipynb\", \"rb\")\n",
        "      file_hash = base64.b64encode(f.read())\n",
        "\n",
        "      data = {\"complexity\" : Complexity, \"additional\" :Additional, \n",
        "              \"concepts\" : Concepts, \"record_id\" : submission_id, \n",
        "              \"answer1\" : Answer1, \"answer2\" : Answer2, \"id\" : Id, \"file_hash\" : file_hash,\n",
        "              \"notebook\" : notebook,\n",
        "              \"feedback_experiments_input\" : Comments,\n",
        "              \"feedback_mentor_support\": Mentor_support}\n",
        "      r = requests.post(url, data = data)\n",
        "      r = json.loads(r.text)\n",
        "      if \"err\" in r:        \n",
        "        print(r[\"err\"])\n",
        "        return None   \n",
        "      else:\n",
        "        print(\"Your submission is successful.\")\n",
        "        print(\"Ref Id:\", submission_id)\n",
        "        print(\"Date of submission: \", r[\"date\"])\n",
        "        print(\"Time of submission: \", r[\"time\"])\n",
        "        print(\"View your submissions: https://dlfa-iisc.talentsprint.com/notebook_submissions\")\n",
        "        #print(\"For any queries/discrepancies, please connect with mentors through the chat icon in LMS dashboard.\")\n",
        "        return submission_id\n",
        "    else: submission_id\n",
        "    \n",
        "\n",
        "def getAdditional():\n",
        "  try:\n",
        "    if not Additional: \n",
        "      raise NameError\n",
        "    else:\n",
        "      return Additional  \n",
        "  except NameError:\n",
        "    print (\"Please answer Additional Question\")\n",
        "    return None\n",
        "\n",
        "def getComplexity():\n",
        "  try:\n",
        "    if not Complexity:\n",
        "      raise NameError\n",
        "    else:\n",
        "      return Complexity\n",
        "  except NameError:\n",
        "    print (\"Please answer Complexity Question\")\n",
        "    return None\n",
        "  \n",
        "def getConcepts():\n",
        "  try:\n",
        "    if not Concepts:\n",
        "      raise NameError\n",
        "    else:\n",
        "      return Concepts\n",
        "  except NameError:\n",
        "    print (\"Please answer Concepts Question\")\n",
        "    return None\n",
        "  \n",
        "  \n",
        "# def getWalkthrough():\n",
        "#   try:\n",
        "#     if not Walkthrough:\n",
        "#       raise NameError\n",
        "#     else:\n",
        "#       return Walkthrough\n",
        "#   except NameError:\n",
        "#     print (\"Please answer Walkthrough Question\")\n",
        "#     return None\n",
        "  \n",
        "def getComments():\n",
        "  try:\n",
        "    if not Comments:\n",
        "      raise NameError\n",
        "    else:\n",
        "      return Comments\n",
        "  except NameError:\n",
        "    print (\"Please answer Comments Question\")\n",
        "    return None\n",
        "  \n",
        "\n",
        "def getMentorSupport():\n",
        "  try:\n",
        "    if not Mentor_support:\n",
        "      raise NameError\n",
        "    else:\n",
        "      return Mentor_support\n",
        "  except NameError:\n",
        "    print (\"Please answer Mentor support Question\")\n",
        "    return None\n",
        "\n",
        "def getAnswer1():\n",
        "  try:\n",
        "    if not Answer1:\n",
        "      raise NameError \n",
        "    else: \n",
        "      return Answer1\n",
        "  except NameError:\n",
        "    print (\"Please answer Question 1\")\n",
        "    return None\n",
        "\n",
        "def getAnswer2():\n",
        "  try:\n",
        "    if not Answer2:\n",
        "      raise NameError \n",
        "    else: \n",
        "      return Answer2\n",
        "  except NameError:\n",
        "    print (\"Please answer Question 2\")\n",
        "    return None\n",
        "  \n",
        "\n",
        "def getId():\n",
        "  try: \n",
        "    return Id if Id else None\n",
        "  except NameError:\n",
        "    return None\n",
        "\n",
        "def getPassword():\n",
        "  try:\n",
        "    return password if password else None\n",
        "  except NameError:\n",
        "    return None\n",
        "\n",
        "submission_id = None\n",
        "### Setup \n",
        "if getPassword() and getId():\n",
        "  submission_id = submit_notebook()\n",
        "  if submission_id:\n",
        "    setup() \n",
        "else:\n",
        "  print (\"Please complete Id and Password cells before running setup\")\n",
        "\n"
      ],
      "execution_count": null,
      "outputs": []
    },
    {
      "cell_type": "markdown",
      "metadata": {
        "id": "ZgbAwtf6G6l5"
      },
      "source": [
        "### Importing required packages "
      ]
    },
    {
      "cell_type": "code",
      "metadata": {
        "scrolled": true,
        "id": "WCBUiz0oG6l6"
      },
      "source": [
        "import numpy as np\n",
        "import matplotlib.pyplot as plt\n",
        "from sympy import symbols, diff\n",
        "import sys"
      ],
      "execution_count": null,
      "outputs": []
    },
    {
      "cell_type": "markdown",
      "source": [
        "### Newton-Raphson Method\n",
        "\n",
        "Newton's method is a root finding method that uses linear approximation\n",
        "\n",
        "\n",
        "\n",
        "Let $f(x)$ be a smooth and continuous function and $x_{r}$ be an unknown root of $f(x)$.  Now assume that $x_{0}$ is a guess for $x_{r}$. Unless x0 is a very lucky guess. Unless $x_{0}$ is a very lucky guess, $f(x_{0})$ will not be a root. Given this scenario, we want to find an $x_{1}$ that is an improvement on $x_{0}$  (i.e., closer to $x_{r}$ than $x_{0}$). If we assume that $x_{0}$ is “close enough” to $x_{r}$, then we can improve upon it by taking the linear approximation of $f(x)$ around $x_{0}$, which is a line, and finding the intersection of this line with the x-axis. Written out, the linear approximation of $f(x)$ around $x_{0}$ is $f(x) ≈ f(x_{0})+f′(x_{0})(x−x_{0}).$ Using this approximation, we find $x_{1}$ such that $f(x_{1}) = 0.$ Plugging these values into the linear approximation results in the equation:\n",
        "\n",
        "<br>\n",
        "<center>\n",
        "\n",
        "$0 = f(x_{0}) + f′(x_{0})(x_{1} - x_{0}),$\n",
        "\n",
        "</center>\n",
        "\n",
        "which when solved for $x_{1}$ is \n",
        "\n",
        "<center>\n",
        "$x_{1} = x_{0} - \\frac{f(x_{0})}{f′(x_{0})}$\n",
        "\n",
        "</center>\n",
        "<br>\n",
        "\n",
        "An illustration of how this linear approximation improves an initial guess is shown in the following figure.\n",
        "<br>\n",
        "\n",
        "<center>\n",
        "\n",
        "![image.png](data:image/png;base64,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)\n",
        "\n",
        "</center>\n",
        "\n",
        "\n",
        "Written generally, a Newton step computes an improved guess, xi, using a previous guess xi−1, and is given by the equation\n",
        "\n",
        "<center>\n",
        "$x_{i} = x_{i - 1} - \\frac{g(x_{i-1})}{g′(x_{i - 1})}$\n",
        "\n",
        "</center>\n",
        "<br>\n",
        "\n",
        "The **Newton-Raphson Method** of finding roots iterates Newton steps from $x_{0}$ until the error is less than the tolerance.\n"
      ],
      "metadata": {
        "id": "OzDKJGkdKhOL"
      }
    },
    {
      "cell_type": "markdown",
      "source": [
        "1. Given the function $f(x) =  x^{3} - x^{2} - 1$. Use the Newton-Raphson method to find a root of the function $f(x)$, starting at intial guess $x_{0} =  1$."
      ],
      "metadata": {
        "id": "NoqMbxf0rB1I"
      }
    },
    {
      "cell_type": "code",
      "source": [
        "# Defining Newton's function which takes 5 input parameters f, Df, x0, epsilon and max_iter \n",
        "# and returns an approximation of a solution of by Newton's method.\n",
        "def newton(f, Df, x0, epsilon, max_iter):\n",
        "    '''Approximate solution of f(x)=0 by Newton's method.\n",
        "\n",
        "    Parameters\n",
        "    ----------\n",
        "    f : function\n",
        "        Function for which we are searching for a solution f(x)=0.\n",
        "    Df : function\n",
        "        Derivative of f(x).\n",
        "    x0 : number\n",
        "        Initial guess for a solution f(x)=0.\n",
        "    epsilon : number\n",
        "        Stopping criteria is abs(f(x)) < epsilon.\n",
        "    max_iter : integer\n",
        "        Maximum number of iterations of Newton's method.\n",
        "\n",
        "    Returns\n",
        "    -------\n",
        "    xn : number\n",
        "        Implement Newton's method: compute the linear approximation\n",
        "        of f(x) at xn and find x intercept by the formula\n",
        "            x = xn - f(xn)/Df(xn)\n",
        "        Continue until abs(f(xn)) < epsilon and return xn.\n",
        "        If Df(xn) == 0, return None. If the number of iterations\n",
        "        exceeds max_iter, then return None.\n",
        "    '''\n",
        "    xn = x0\n",
        "    for n in range(0, max_iter):\n",
        "        # YOUR CODE HERE"
      ],
      "metadata": {
        "id": "arHGOEj3jwUO"
      },
      "execution_count": null,
      "outputs": []
    },
    {
      "cell_type": "code",
      "source": [
        "p = lambda x: x**3 - x**2 - 1\n",
        "Dp = lambda x: 3*x**2 - 2*x\n",
        "approx = newton(p, Dp, 1, 1e-10, 10)\n",
        "print(approx)"
      ],
      "metadata": {
        "id": "jV19Usqzjzil"
      },
      "execution_count": null,
      "outputs": []
    },
    {
      "cell_type": "markdown",
      "source": [
        "2. Consider the function $f(x) =  x^{3} - x^{2} - 1$. Does this function have a local minima or global minima? At what point you get the local or global minima?"
      ],
      "metadata": {
        "id": "f8n7yp4XmfXv"
      }
    },
    {
      "cell_type": "markdown",
      "source": [
        "**Hint:** Try to plot the function"
      ],
      "metadata": {
        "id": "ty6pqTzEnFcS"
      }
    },
    {
      "cell_type": "code",
      "source": [
        "# Newton's method\n",
        "# Defining the function\n",
        "def func(x):\n",
        "    return x * x * x - x * x - 1"
      ],
      "metadata": {
        "id": "2UpfcHOx5Jkt"
      },
      "execution_count": null,
      "outputs": []
    },
    {
      "cell_type": "code",
      "source": [
        "# Derivative of the above function\n",
        "# which is 3*x^x - 2*x\n",
        "def derivFunc(x):\n",
        "    return 3 * x * x - 2 * x"
      ],
      "metadata": {
        "id": "6eZILkIG5L4r"
      },
      "execution_count": null,
      "outputs": []
    },
    {
      "cell_type": "code",
      "source": [
        "# Second order derivative\n",
        "def secondderivFunc(x):\n",
        "    return 6 * x - 2"
      ],
      "metadata": {
        "id": "A__qSaSK5Owf"
      },
      "execution_count": null,
      "outputs": []
    },
    {
      "cell_type": "code",
      "source": [
        "# Function to find the root\n",
        "def newtonRaphson(x):\n",
        "    h = derivFunc(x) / secondderivFunc(x)\n",
        "    iteration_counter = 0\n",
        "    while abs(h) >= 0.0001 and iteration_counter < 100:\n",
        "        # YOUR CODE HERE\n",
        "        # x(i+1) = x(i) - f'(x) / f''(x)\n",
        "        try:\n",
        "            # YOUR CODE HERE\n",
        "        except ZeroDivisionError:\n",
        "            print(\"Error! - derivative zero for x = \", x)\n",
        "            sys.exit(1)     # Abort with error\n",
        "\n",
        "        iteration_counter += 1\n",
        "\n",
        "        # Print iterations\n",
        "        print(\"Iteration\", iteration_counter,\"\\nX value is\", x)\n",
        "\n",
        "    # YOUR CODE HERE\n",
        "         print(\"The minima occurs at\", x)\n",
        "    # elif  \n",
        "    else:\n",
        "         print(\"The minima is: \",\n",
        "                               \"%.4f\"% func(x))\n",
        "\n",
        "x0 = 5 # Initial values assumed\n",
        "newtonRaphson(x0)"
      ],
      "metadata": {
        "id": "uPcnfwSe8Fsa"
      },
      "execution_count": null,
      "outputs": []
    },
    {
      "cell_type": "markdown",
      "source": [
        "### Multivariate Newton Optimization method"
      ],
      "metadata": {
        "id": "-ERLOq0UX6up"
      }
    },
    {
      "cell_type": "code",
      "source": [
        "from sympy import Derivative\n",
        "x1, x2 = symbols('x1 x2')\n",
        "expr = x1 - x2 + 2*x1*x2 + 2*x1**2 + x2**2\n",
        "print(f\"Expression : {expr} \")"
      ],
      "metadata": {
        "id": "sIS4odrwACab"
      },
      "execution_count": null,
      "outputs": []
    },
    {
      "cell_type": "markdown",
      "source": [
        "In mathematics, the Hessian matrix or Hessian is a square matrix of second-order partial derivatives of a scalar-valued function, or scalar field.\n",
        "\n",
        "\n",
        "  \\begin{equation*}H(x) = \\begin{bmatrix} f_{xx}\\,\\,\\, f_{xy} \\\\ f_{yx} \\,\\,\\,f_{yy}\\end{bmatrix} =   \\begin{bmatrix} \\frac{∂f} {∂x^{2} } \\frac{∂f} {∂x∂y}\\\\  \\frac{∂f}  {∂y∂x } \\frac{∂f} {∂y^{2} }  \\end{bmatrix}\n",
        "  \\end{equation*}"
      ],
      "metadata": {
        "id": "TuPGlyefyhT6"
      }
    },
    {
      "cell_type": "code",
      "source": [
        "def Hessian_matrix(x01, x02):\n",
        "  # YOUR CODE HERE\n",
        "  return Hxy"
      ],
      "metadata": {
        "id": "qNw74ltseXLI"
      },
      "execution_count": null,
      "outputs": []
    },
    {
      "cell_type": "code",
      "source": [
        "Hessian = Hessian_matrix(0.1,0.2)\n",
        "Hxy = Hessian\n",
        "print(Hxy)"
      ],
      "metadata": {
        "id": "4vCamUEVgG9X"
      },
      "execution_count": null,
      "outputs": []
    },
    {
      "cell_type": "markdown",
      "source": [
        "The gradient of a function is a vector field. It is obtained by applying the vector operator V to the scalar function f(x, y). Such a vector field is called a gradient (or conservative) vector field.\n",
        "\n",
        "\\begin{equation*} \\bigtriangledown f = \\begin{bmatrix} \\frac {∂f}   {\\partial x} \\\\ \\frac {∂f}   {\\partial y}\\end{bmatrix} \\end{equation*}"
      ],
      "metadata": {
        "id": "TtUWbP3DLQpJ"
      }
    },
    {
      "cell_type": "code",
      "source": [
        "def gradientf():\n",
        "  gradf = []\n",
        "  # YOUR CODE HERE\n",
        "  return dfx, dfy"
      ],
      "metadata": {
        "id": "zI_a9pwsDupK"
      },
      "execution_count": null,
      "outputs": []
    },
    {
      "cell_type": "markdown",
      "source": [
        "### Newton Optimization for Multi Variate equation\n",
        "\n",
        "\n",
        "\n",
        "\n",
        "\n",
        "\n",
        " \\begin{equation*} X^{new} = X^{old} - H^{-1}  \\bigtriangledown f     \\end{equation*}  \n",
        " \\begin{equation*} where \\,\\, X = \\begin{bmatrix} x1 \\\\ x2 \\end{bmatrix}  \\end{equation*}"
      ],
      "metadata": {
        "id": "H-_OwHMKMphi"
      }
    },
    {
      "cell_type": "code",
      "source": [
        "i = 10\n",
        "\n",
        "x0 = np.array([0.001,0.002])\n",
        "print(type(x0[0]))\n",
        "\n",
        "for m in range(i):\n",
        "  print(f\"\\nIteration {m+1}\")\n",
        "  gradientoff = []\n",
        "  inverse = # YOUR CODE HERE\n",
        "  \n",
        "  print(f\"x0 : {x0}\")\n",
        "  gradf = # YOUR CODE HERE\n",
        "  \n",
        "  h = # YOUR CODE HERE\n",
        "  if h.all() == 0 :\n",
        "    print(f\"Objective function converged\\nConverged in {m+1} iterations\")\n",
        "    print(f\"Points at which the objective function is converged : {x0}\")\n",
        "    break\n",
        "\n",
        "  xn = x0 - h\n",
        "  # print(f\"xn : {xn}\")\n",
        "  x0 = xn"
      ],
      "metadata": {
        "id": "key8_vZgtfgj"
      },
      "execution_count": null,
      "outputs": []
    },
    {
      "cell_type": "markdown",
      "source": [
        "**Line search** method is an iterative approach to find a local minimum of a multidimensional nonlinear function using the function's gradients. It computes a search direction and then finds an acceptable step length that satisfies certain standard conditions. \n",
        "\n",
        "\n",
        "Line search method can be categorized into exact and inexact methods. The exact method, as in the name, aims to find the exact minimizer at each iteration; while the inexact method computes step lengths to satisfy conditions including Wolfe and Goldstein conditions. Line search and trust-region methods are two fundamental strategies for locating the new iterate given the current point. With the ability to solve the unconstrained optimization problem, line search is widely used in many cases including machine learning, game theory and other fields."
      ],
      "metadata": {
        "id": "y_QLZP4B4WOP"
      }
    },
    {
      "cell_type": "markdown",
      "source": [
        "### Exact Line  Search\n",
        "\n",
        "#### Steepest Descent Method\n",
        "\n",
        "Given the intuition that the negative gradient $ - \\nabla f_{k}$ can be an effective search direction, steepest descent follows the idea and establishes a systematic method for minimizing the objective function. Setting $ - \\nabla f_{k}$ as the direction, steepest descent computes the step-length $\\alpha_{k}$ by minimizing a single-variable objective function. More specifically, the steps of Steepest Descent Method are as follows:\n",
        "\n",
        "**Steepest Descent Algorithm:**\n",
        "\n",
        "\n",
        "![Img](https://cdn.iisc.talentsprint.com/DLFA/Experiment_related_data/Line_Search.png)\n",
        "\n",
        "\n",
        "\n",
        "\n",
        "\n",
        "\n",
        "\n",
        "\n",
        "\n"
      ],
      "metadata": {
        "id": "Kzq3Ozb85cSp"
      }
    },
    {
      "cell_type": "markdown",
      "source": [
        "1. Given the objective function is $ x_{1} - x_{2} + 2 x_{1}  x_{2} + 2 x_{1}^2 +  x_{2}^2  $"
      ],
      "metadata": {
        "id": "Gq-BRAEV2PAo"
      }
    },
    {
      "cell_type": "code",
      "execution_count": null,
      "metadata": {
        "id": "ycXeuYyP352i"
      },
      "outputs": [],
      "source": [
        "# Define objective function\n",
        "def f(x):\n",
        "    # YOUR CODE HERE\n",
        "    return obj\n",
        "    \n",
        "# Define objective gradient\n",
        "def dfdx(x):\n",
        "    # YOUR CODE HERE\n",
        "    return grad\n",
        "\n",
        "# Exact 2nd derivatives (hessian)\n",
        "H = [[2.0, -2.0],[-2.0, 8.0]]\n",
        "\n",
        "# Start location/ Starting point\n",
        "# x_start = [-3.0, 2.0]\n",
        "x_start = [0.0, 0.0]"
      ]
    },
    {
      "cell_type": "code",
      "source": [
        "# Design variables at mesh points\n",
        "i1 = np.arange(-4.0, 4.0, 0.1)\n",
        "i2 = np.arange(-4.0, 4.0, 0.1)\n",
        "x1_mesh, x2_mesh = np.meshgrid(i1, i2)\n",
        "#f_mesh = x1_mesh**2 - 2.0 * x1_mesh * x2_mesh + 4 * x2_mesh**2\n",
        "f_mesh = x1_mesh - x2_mesh + 2.0 * x1_mesh * x2_mesh + 2 * x1_mesh**2 + x2_mesh**2\n",
        "\n",
        "# Create a contour plot\n",
        "plt.figure()\n",
        "\n",
        "# Specify contour lines\n",
        "lines = range(2,52,2)\n",
        "\n",
        "# Plot contours\n",
        "CS = plt.contour(x1_mesh, x2_mesh, f_mesh, lines)\n",
        "\n",
        "# Label contours\n",
        "plt.clabel(CS, inline=1, fontsize=10)\n",
        "\n",
        "# Add some text to the plot\n",
        "plt.title(\"f(x) = x1 - x2 + 2.0 * x1 * x2 + 2 * x1**2 + x2**2\")\n",
        "plt.xlabel(\"x1\")\n",
        "plt.ylabel(\"x2\");"
      ],
      "metadata": {
        "id": "y1ooxjdw96Pj"
      },
      "execution_count": null,
      "outputs": []
    },
    {
      "cell_type": "markdown",
      "source": [
        "### Steepest Descent Method"
      ],
      "metadata": {
        "id": "EgHGgjZxHpFT"
      }
    },
    {
      "cell_type": "code",
      "source": [
        "# Number of iterations\n",
        "n = 10\n",
        "\n",
        "# Use this alpha for every line search\n",
        "from sympy import symbols, diff, solve\n",
        "alpha = symbols('a')\n",
        "\n",
        "# Initialize xs\n",
        "xs = np.zeros((n+1, 2))\n",
        "xs[0] = x_start\n",
        "\n",
        "# Get gradient at start location (df/dx or grad(f))\n",
        "epsilon = 0.0025\n",
        "for i in range(n):\n",
        "    \n",
        "    # gs = dfdx(xs[i])\n",
        "    # Compute search direction and magnitude (dx)\n",
        "    # with dx = - grad but no line searching\n",
        "    print(\"Iteration:\", i)\n",
        "    # YOUR CODE HERE\n",
        "\n",
        "    if f(x).is_constant():\n",
        "        # YOUR CODE HERE\n",
        "\n",
        "    fx1 = # YOUR CODE HERE\n",
        "    print(\"f(x1) = \", fx1)\n",
        "\n",
        "    sol = # YOUR CODE HERE\n",
        "    print(\"alpha\", sol)\n",
        "\n",
        "    xs[i+1] = # YOUR CODE HERE\n",
        "    print(\"New values =\", xs[i+1])\n",
        "\n",
        "    vec_norm = np.linalg.norm(dfdx(xs[i]))\n",
        "    print(\"Vector norm:\", vec_norm)\n",
        "    print('')\n",
        "    if (vec_norm < epsilon):\n",
        "        print(\"Optimum value of alpha is:\", sol)\n",
        "        print('')\n",
        "        print(\"The derived optimal solution is:\", xs[i+1])\n",
        "        print('')\n",
        "        print(\"The minima of the given function is:\", f(xs[i+1]))\n",
        "        print('')\n",
        "        print(\"The total number iterations taken is:\", i+1)\n",
        "        break\n",
        "\n",
        "    print('')\n",
        "    plt.plot(xs[:,0],xs[:,1], 'g-o')"
      ],
      "metadata": {
        "id": "n1kX6tUTQngN"
      },
      "execution_count": null,
      "outputs": []
    },
    {
      "cell_type": "markdown",
      "metadata": {
        "id": "VHfHdGCP_n6Y"
      },
      "source": [
        "### Please answer the questions below to complete the experiment:\n",
        "\n",
        "\n"
      ]
    },
    {
      "cell_type": "markdown",
      "source": [
        "\n",
        "Q1. Suppose we are trying to minimize the function $f(x, y) = 4x^{2} – 4xy + 2y^{2}$. Starting from $x^{(0)} = (2, 3)^{T}$, compute the step size $\\alpha$ in the first iteration of steepest descent procedure with exact line search and also calculate $x^{(1)}$.\n",
        "\n",
        "Hint: Please solve the problem manually and if you want to use the exact line search algorithm, do make the necessary changes to the code given in the assignment.\n",
        "\n",
        "**Options**\n",
        "\n",
        "A. $\\alpha = 0.5$,  $x^{(1)} = (0, 1)^T$\n",
        "\n",
        "B. $\\alpha = 0.5$,  $x^{(1)} = (1, 0)^T$\n",
        "\n",
        "C. $\\alpha = 0.5$, $x^{(1)} = (0, -1)^T$\n",
        "\n",
        "D. $\\alpha = 0.5$, $x^{(1)} = (-1, -1)^T$\n",
        "\n"
      ],
      "metadata": {
        "id": "3aY0mwlsUP14"
      }
    },
    {
      "cell_type": "code",
      "metadata": {
        "id": "kmvdJ4aNmGjR"
      },
      "source": [
        "#@title Q.1. Solve the above problem { run: \"auto\", form-width: \"500px\", display-mode: \"form\" }\n",
        "Answer1 = \"\" #@param [\"\",\"Only A\",\"Only B\",\"Only C\", \"Only D\"]\n",
        "\n"
      ],
      "execution_count": null,
      "outputs": []
    },
    {
      "cell_type": "markdown",
      "metadata": {
        "id": "NacSL0FsDmv_"
      },
      "source": [
        "#### Consider the following statements about Newton's Algorithm and answer Q.2.\n",
        "\n",
        "A. Convergence of the algorithm depends heavily on the starting point.\n",
        "\n",
        "B. The Hessian needs to be invertible at every iterate $x_{k}$.\n",
        "\n",
        "C. The Hessian need not be invertible at every iterate $x_{k}$.\n"
      ]
    },
    {
      "cell_type": "code",
      "metadata": {
        "id": "A3Wd-R9CDmv_"
      },
      "source": [
        "#@title Q.2. Which of the above statements is/are drawbacks of Newton's Algorithm? { run: \"auto\", form-width: \"500px\", display-mode: \"form\" }\n",
        "Answer2 = \"\" #@param [\"\",\"Only A\",\"Only B\",\"Only C\",\"Both A and C\",\"Both A and B\"]\n"
      ],
      "execution_count": null,
      "outputs": []
    },
    {
      "cell_type": "code",
      "metadata": {
        "id": "NMzKSbLIgFzQ"
      },
      "source": [
        "#@title How was the experiment? { run: \"auto\", form-width: \"500px\", display-mode: \"form\" }\n",
        "Complexity = \"\" #@param [\"\",\"Too Simple, I am wasting time\", \"Good, But Not Challenging for me\", \"Good and Challenging for me\", \"Was Tough, but I did it\", \"Too Difficult for me\"]\n"
      ],
      "execution_count": null,
      "outputs": []
    },
    {
      "cell_type": "code",
      "metadata": {
        "id": "DjcH1VWSFI2l"
      },
      "source": [
        "#@title If it was too easy, what more would you have liked to be added? If it was very difficult, what would you have liked to have been removed? { run: \"auto\", display-mode: \"form\" }\n",
        "Additional = \"\" #@param {type:\"string\"}\n"
      ],
      "execution_count": null,
      "outputs": []
    },
    {
      "cell_type": "code",
      "metadata": {
        "id": "4VBk_4VTAxCM"
      },
      "source": [
        "#@title Can you identify the concepts from the lecture which this experiment covered? { run: \"auto\", vertical-output: true, display-mode: \"form\" }\n",
        "Concepts = \"\" #@param [\"\",\"Yes\", \"No\"]\n"
      ],
      "execution_count": null,
      "outputs": []
    },
    {
      "cell_type": "code",
      "metadata": {
        "id": "XH91cL1JWH7m"
      },
      "source": [
        "#@title  Text and image description/explanation and code comments within the experiment: { run: \"auto\", vertical-output: true, display-mode: \"form\" }\n",
        "Comments = \"\" #@param [\"\",\"Very Useful\", \"Somewhat Useful\", \"Not Useful\", \"Didn't use\"]\n"
      ],
      "execution_count": null,
      "outputs": []
    },
    {
      "cell_type": "code",
      "metadata": {
        "id": "z8xLqj7VWIKW"
      },
      "source": [
        "#@title Mentor Support: { run: \"auto\", vertical-output: true, display-mode: \"form\" }\n",
        "Mentor_support = \"\" #@param [\"\",\"Very Useful\", \"Somewhat Useful\", \"Not Useful\", \"Didn't use\"]\n"
      ],
      "execution_count": null,
      "outputs": []
    },
    {
      "cell_type": "code",
      "metadata": {
        "id": "FzAZHt1zw-Y-",
        "cellView": "form"
      },
      "source": [
        "#@title Run this cell to submit your notebook for grading { vertical-output: true }\n",
        "try:\n",
        "  if submission_id:\n",
        "      return_id = submit_notebook()\n",
        "      if return_id : submission_id = return_id\n",
        "  else:\n",
        "      print(\"Please complete the setup first.\")\n",
        "except NameError:\n",
        "  print (\"Please complete the setup first.\")"
      ],
      "execution_count": null,
      "outputs": []
    }
  ]
}